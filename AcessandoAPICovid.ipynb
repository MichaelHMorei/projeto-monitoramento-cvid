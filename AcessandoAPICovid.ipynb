{
 "cells": [
  {
   "cell_type": "code",
   "execution_count": null,
   "id": "1d307b3d",
   "metadata": {},
   "outputs": [],
   "source": [
    "# Importando as bibliotecas"
   ]
  },
  {
   "cell_type": "code",
   "execution_count": 382,
   "id": "72418824",
   "metadata": {
    "ExecuteTime": {
     "end_time": "2022-04-20T22:37:19.400106Z",
     "start_time": "2022-04-20T22:37:19.299381Z"
    }
   },
   "outputs": [],
   "source": [
    "import requests as r\n",
    "import pandas as pd\n",
    "from datetime import datetime\n",
    "import numpy as np\n",
    "from pandasql import sqldf\n",
    "import pyodbc as odc\n"
   ]
  },
  {
   "cell_type": "markdown",
   "id": "f803a3e1",
   "metadata": {},
   "source": [
    "# Requisitando os dados na API"
   ]
  },
  {
   "cell_type": "code",
   "execution_count": 430,
   "id": "6be9c030",
   "metadata": {
    "ExecuteTime": {
     "end_time": "2022-04-22T22:04:05.377997Z",
     "start_time": "2022-04-22T22:04:04.549908Z"
    }
   },
   "outputs": [],
   "source": [
    "url = 'https://covid19-brazil-api.now.sh/api/report/v1'\n",
    "df = r.request('GET',url)"
   ]
  },
  {
   "cell_type": "markdown",
   "id": "bacbe21b",
   "metadata": {},
   "source": [
    "# Convertendo o Json em um DataFrame"
   ]
  },
  {
   "cell_type": "code",
   "execution_count": 456,
   "id": "6baf4de9",
   "metadata": {
    "ExecuteTime": {
     "end_time": "2022-04-23T10:59:11.748781Z",
     "start_time": "2022-04-23T10:59:11.722195Z"
    }
   },
   "outputs": [],
   "source": [
    "def JsonDataframe():\n",
    "    #Criando um DataFrame vazio.\n",
    "    df2 = pd.DataFrame()\n",
    "    i = 0\n",
    "    \n",
    "    #Obetendo os dados da API\n",
    "    df = r.request('GET',url)\n",
    "    \n",
    "    #Obtendo a data atual do sistema.\n",
    "    data_atual = datetime.today().strftime('%Y-%m-%d')\n",
    "\n",
    "    #Lendo linha a linha do dicionaro 'Data' vindo do arquivo Json.\n",
    "    #O dicionario e composto por chave e valor.\n",
    "\n",
    "    for i in range(len(df.json()['data'])):\n",
    "        df1 = pd.DataFrame(df.json()['data'][i], index=[0])\n",
    "\n",
    "        #Alterando o formato da data\n",
    "        df1['datetime'] = pd.to_datetime(df1['datetime']).dt.strftime(\"%Y-%m-%d\")\n",
    "\n",
    "        #Adicionando os registros ao dataframe = df2\n",
    "        df2 = df2.append(df1)\n"
   ]
  },
  {
   "cell_type": "code",
   "execution_count": 458,
   "id": "a0848baa",
   "metadata": {
    "ExecuteTime": {
     "end_time": "2022-04-23T10:59:31.560112Z",
     "start_time": "2022-04-23T10:59:31.542326Z"
    }
   },
   "outputs": [
    {
     "data": {
      "text/plain": [
       "array(['2022-04-22'], dtype=object)"
      ]
     },
     "execution_count": 458,
     "metadata": {},
     "output_type": "execute_result"
    }
   ],
   "source": [
    "df2['datetime'].unique()"
   ]
  },
  {
   "cell_type": "markdown",
   "id": "5f607275",
   "metadata": {},
   "source": [
    "# Fazer Select no Banco para conferir valores repetidos."
   ]
  },
  {
   "cell_type": "code",
   "execution_count": 473,
   "id": "067eb806",
   "metadata": {
    "ExecuteTime": {
     "end_time": "2022-04-23T11:26:56.922163Z",
     "start_time": "2022-04-23T11:26:56.908412Z"
    }
   },
   "outputs": [],
   "source": [
    "def SelectBanco ():\n",
    "    \n",
    "    con_string = ('DRIVER={SQL Server};'\n",
    "              'SERVER=DESKTOP-AF7BA3M;'\n",
    "              'DATABASE=CovidDB;')\n",
    "\n",
    "    cnxn = odc.connect(con_string)\n",
    "    query = \"\"\"SELECT * FROM Tb_Covid1\"\"\"\n",
    "    #Passando o retorno da consulta para um dataframe = 'result'\n",
    "    result = pd.read_sql(query, cnxn)\n",
    "    return result"
   ]
  },
  {
   "cell_type": "markdown",
   "id": "03efcb79",
   "metadata": {},
   "source": [
    "# Função para verificar a ultima data dos registros."
   ]
  },
  {
   "cell_type": "code",
   "execution_count": 466,
   "id": "4fdd73b1",
   "metadata": {
    "ExecuteTime": {
     "end_time": "2022-04-23T11:21:07.949329Z",
     "start_time": "2022-04-23T11:21:07.929790Z"
    }
   },
   "outputs": [],
   "source": [
    "def IncrementoBanco (query,data_atual,df2):\n",
    "    df0 = pd.DataFrame(query)\n",
    "    if (df0['datetime'].max() < data_atual) & (df2['datetime'].max() > df0['datetime'].max()) :\n",
    "            GravarNoBanco(df2)   "
   ]
  },
  {
   "cell_type": "markdown",
   "id": "c9cc8f59",
   "metadata": {},
   "source": [
    "# Insert - SQL"
   ]
  },
  {
   "cell_type": "code",
   "execution_count": 265,
   "id": "ec0d7086",
   "metadata": {
    "ExecuteTime": {
     "end_time": "2022-04-17T11:31:34.991791Z",
     "start_time": "2022-04-17T11:31:34.978286Z"
    }
   },
   "outputs": [],
   "source": [
    "def GravarNoBanco(df):\n",
    "\n",
    "        cnxn = odc.connect('DRIVER={SQL Server};'\n",
    "                       'SERVER=DESKTOP-AF7BA3M;'\n",
    "                        'DATABASE=CovidDB;')\n",
    "        cursor = cnxn.cursor()\n",
    "\n",
    "        for index , linha in df.iterrows():\n",
    "            cursor.execute(\"insert into Tb_Covid1(uid, uf, state,cases,deaths,suspects,refuses,datetime) values (?,?,?,?,?,?,?,?)\",linha.uid,linha.uf,linha.state,linha.cases,linha.deaths,linha.suspects,linha.refuses,linha.datetime)\n",
    "            cursor.commit()"
   ]
  },
  {
   "cell_type": "markdown",
   "id": "aa2de343",
   "metadata": {},
   "source": [
    "# Instancioando as funçoes."
   ]
  },
  {
   "cell_type": "code",
   "execution_count": 475,
   "id": "760d78f9",
   "metadata": {
    "ExecuteTime": {
     "end_time": "2022-04-23T11:28:03.106810Z",
     "start_time": "2022-04-23T11:27:58.937894Z"
    }
   },
   "outputs": [],
   "source": [
    "#Obtendo os dados da API\n",
    "JsonDataframe()\n",
    "\n",
    "# Query no banco de dados verificando a ultima data.\n",
    "query = SelectBanco()\n",
    "\n",
    "#Incrementando os dados no banco\n",
    "IncrementoBanco(query,data_atual,df2)"
   ]
  },
  {
   "cell_type": "markdown",
   "id": "9d228b2a",
   "metadata": {},
   "source": [
    "# Consultando o banco para verificar os valores inseridos."
   ]
  },
  {
   "cell_type": "code",
   "execution_count": 476,
   "id": "24b71354",
   "metadata": {
    "ExecuteTime": {
     "end_time": "2022-04-23T11:28:05.966708Z",
     "start_time": "2022-04-23T11:28:05.943204Z"
    }
   },
   "outputs": [
    {
     "data": {
      "text/plain": [
       "'2022-04-22'"
      ]
     },
     "execution_count": 476,
     "metadata": {},
     "output_type": "execute_result"
    }
   ],
   "source": [
    "query['datetime'].max()"
   ]
  },
  {
   "cell_type": "markdown",
   "id": "62189ab5",
   "metadata": {},
   "source": [
    "# Agrupando e somando os valores por estado."
   ]
  },
  {
   "cell_type": "code",
   "execution_count": 453,
   "id": "085880fc",
   "metadata": {
    "ExecuteTime": {
     "end_time": "2022-04-22T22:36:26.633038Z",
     "start_time": "2022-04-22T22:36:26.091929Z"
    }
   },
   "outputs": [],
   "source": [
    "url2 = 'https://servicodados.ibge.gov.br/api/v1/localidades/estados'\n",
    "df1 = r.request('GET',url2)\n",
    "\n"
   ]
  }
 ],
 "metadata": {
  "hide_input": false,
  "kernelspec": {
   "display_name": "Python 3 (ipykernel)",
   "language": "python",
   "name": "python3"
  },
  "language_info": {
   "codemirror_mode": {
    "name": "ipython",
    "version": 3
   },
   "file_extension": ".py",
   "mimetype": "text/x-python",
   "name": "python",
   "nbconvert_exporter": "python",
   "pygments_lexer": "ipython3",
   "version": "3.9.7"
  }
 },
 "nbformat": 4,
 "nbformat_minor": 5
}
